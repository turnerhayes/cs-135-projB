{
 "cells": [
  {
   "cell_type": "code",
   "execution_count": 1,
   "metadata": {},
   "outputs": [
    {
     "name": "stdout",
     "output_type": "stream",
     "text": [
      "Intel MKL WARNING: Support of Intel(R) Streaming SIMD Extensions 4.2 (Intel(R) SSE4.2) enabled only processors has been deprecated. Intel oneAPI Math Kernel Library 2025.0 will require Intel(R) Advanced Vector Extensions (Intel(R) AVX) instructions.\n",
      "Intel MKL WARNING: Support of Intel(R) Streaming SIMD Extensions 4.2 (Intel(R) SSE4.2) enabled only processors has been deprecated. Intel oneAPI Math Kernel Library 2025.0 will require Intel(R) Advanced Vector Extensions (Intel(R) AVX) instructions.\n"
     ]
    }
   ],
   "source": [
    "import numpy as np\n",
    "import pandas as pd"
   ]
  },
  {
   "cell_type": "code",
   "execution_count": 2,
   "metadata": {},
   "outputs": [],
   "source": [
    "ratings_set_df = pd.read_csv(\"./data_movie_lens_100k/ratings_all_development_set.csv\")\n",
    "users_df = pd.read_csv(\"./data_movie_lens_100k/user_info.csv\")\n",
    "movies_df = pd.read_csv(\"./data_movie_lens_100k/movie_info.csv\")"
   ]
  },
  {
   "cell_type": "code",
   "execution_count": 102,
   "metadata": {},
   "outputs": [
    {
     "name": "stdout",
     "output_type": "stream",
     "text": [
      "     user_id  age  is_male  orig_user_id\n",
      "0          0   24        1             1\n",
      "1          1   53        0             2\n",
      "2          2   23        1             3\n",
      "3          3   24        1             4\n",
      "4          4   33        0             5\n",
      "..       ...  ...      ...           ...\n",
      "938      938   26        0           939\n",
      "939      939   32        1           940\n",
      "940      940   20        1           941\n",
      "941      941   48        0           942\n",
      "942      942   22        1           943\n",
      "\n",
      "[943 rows x 4 columns]\n",
      "      item_id                                      title  release_year  \\\n",
      "0           0                           Toy Story (1995)          1995   \n",
      "1           1                           GoldenEye (1995)          1995   \n",
      "2           2                          Four Rooms (1995)          1995   \n",
      "3           3                          Get Shorty (1995)          1995   \n",
      "4           4                             Copycat (1995)          1995   \n",
      "...       ...                                        ...           ...   \n",
      "1676     1676                          Mat' i syn (1997)          1998   \n",
      "1677     1677                           B. Monkey (1998)          1998   \n",
      "1678     1678                       Sliding Doors (1998)          1998   \n",
      "1679     1679                        You So Crazy (1994)          1994   \n",
      "1680     1680  Scream of Stone (Schrei aus Stein) (1991)          1996   \n",
      "\n",
      "      orig_item_id  \n",
      "0                1  \n",
      "1                2  \n",
      "2                3  \n",
      "3                4  \n",
      "4                5  \n",
      "...            ...  \n",
      "1676          1678  \n",
      "1677          1679  \n",
      "1678          1680  \n",
      "1679          1681  \n",
      "1680          1682  \n",
      "\n",
      "[1681 rows x 4 columns]\n"
     ]
    }
   ],
   "source": [
    "print(ratings_set_df)\n",
    "print(users_df)\n",
    "print(movies_df)"
   ]
  },
  {
   "cell_type": "code",
   "execution_count": 122,
   "metadata": {},
   "outputs": [
    {
     "name": "stdout",
     "output_type": "stream",
     "text": [
      "(1681, 10)\n",
      "(1681, 10)\n",
      "(1681, 3)\n",
      "(1681, 2)\n",
      "[[0.3654560540258629 0.1308472728611658 0.16891049805554315 ... 1\n",
      "  'Toy Story (1995)' 1995]\n",
      " [0.26832107628727037 0.15005447090513507 -0.5405755118729517 ... 2\n",
      "  'GoldenEye (1995)' 1995]\n",
      " [1.2199422943036462 0.43879448845941665 0.2779406019715002 ... 3\n",
      "  'Four Rooms (1995)' 1995]\n",
      " ...\n",
      " [0.2766213222286921 -0.13243244767348922 0.1605987977576589 ... 736\n",
      "  'Sliding Doors (1998)' 1998]\n",
      " [0.06910087822638583 -0.0975488869642102 -0.06157610278902446 ... 737\n",
      "  'You So Crazy (1994)' 1994]\n",
      " [-0.0823097210759526 -0.009388963559179633 0.030869361390236924 ... 738\n",
      "  'Scream of Stone (Schrei aus Stein) (1991)' 1996]]\n"
     ]
    }
   ],
   "source": [
    "from surprise import Dataset, NormalPredictor, Reader, SVD, accuracy\n",
    "\n",
    "svd = SVD(\n",
    "    n_factors = 10,\n",
    "    n_epochs=50\n",
    ")\n",
    "\n",
    "reader = Reader(rating_scale=(1,5))\n",
    "ratings_df = Dataset.load_from_df(ratings_set_df[['user_id', 'item_id','rating']], reader)\n",
    "\n",
    "trainset = ratings_df.build_full_trainset()\n",
    "\n",
    "svd.fit(trainset)\n",
    "\n",
    "user_vectors = svd.pu\n",
    "item_vectors = svd.qi\n",
    "\n",
    "user_features = users_df[['age', 'is_male', 'orig_user_id']].values\n",
    "item_features = movies_df[['title', 'release_year']].values\n",
    "\n",
    "\n",
    "user_vectors = np.resize(user_vectors, (item_features.shape[0], user_vectors.shape[1]))\n",
    "item_vectors = np.resize(item_vectors, (item_features.shape[0], item_vectors.shape[1]))\n",
    "\n",
    "user_features = np.resize(user_features, (item_features.shape[0], user_features.shape[1]))\n",
    "\n",
    "print(user_vectors.shape)\n",
    "print(item_vectors.shape)\n",
    "print(user_features.shape)\n",
    "print(item_features.shape)\n",
    "\n",
    "feature_vectors = np.concatenate((user_vectors, item_vectors, user_features, item_features), axis=1)\n",
    "print(feature_vectors)\n",
    "\n",
    "\n"
   ]
  }
 ],
 "metadata": {
  "kernelspec": {
   "display_name": "cs135_env",
   "language": "python",
   "name": "python3"
  },
  "language_info": {
   "codemirror_mode": {
    "name": "ipython",
    "version": 3
   },
   "file_extension": ".py",
   "mimetype": "text/x-python",
   "name": "python",
   "nbconvert_exporter": "python",
   "pygments_lexer": "ipython3",
   "version": "3.10.13"
  }
 },
 "nbformat": 4,
 "nbformat_minor": 2
}
