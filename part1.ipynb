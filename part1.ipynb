{
 "cells": [
  {
   "cell_type": "code",
   "execution_count": 1,
   "metadata": {},
   "outputs": [],
   "source": [
    "from CollabFilterOneVectorPerItem import CollabFilterOneVectorPerItem\n",
    "from train_valid_test_loader import load_train_valid_test_datasets\n",
    "import matplotlib.pyplot as plt\n",
    "import numpy as np\n",
    "\n",
    "# Load the dataset\n",
    "train_tuple, valid_tuple, test_tuple, n_users, n_items = \\\n",
    "    load_train_valid_test_datasets()"
   ]
  },
  {
   "cell_type": "code",
   "execution_count": 2,
   "metadata": {},
   "outputs": [
    {
     "name": "stdout",
     "output_type": "stream",
     "text": [
      "==================K=2===========\n",
      "epoch       0.000 | loss_total     1.55557 | train_AUC    0.50000 | valid_AUC     0.50000 | grad_wrt_mu     1.05535 | grad_wrt_b_per_user     0.00136 | grad_wrt_c_per_item     0.00082 | grad_wrt_U     0.02605 | grad_wrt_V     0.01543\n",
      "epoch       0.143 | loss_total     1.39900 | train_AUC    0.70033 | valid_AUC     0.69044 | grad_wrt_mu     0.70252 | grad_wrt_b_per_user     0.00111 | grad_wrt_c_per_item     0.00072 | grad_wrt_U     0.01904 | grad_wrt_V     0.01347\n",
      "epoch       0.286 | loss_total     1.29691 | train_AUC    0.71205 | valid_AUC     0.70142 | grad_wrt_mu     0.41200 | grad_wrt_b_per_user     0.00094 | grad_wrt_c_per_item     0.00064 | grad_wrt_U     0.01606 | grad_wrt_V     0.00995\n",
      "epoch       0.429 | loss_total     1.30394 | train_AUC    0.71985 | valid_AUC     0.70656 | grad_wrt_mu     0.34279 | grad_wrt_b_per_user     0.00090 | grad_wrt_c_per_item     0.00057 | grad_wrt_U     0.01762 | grad_wrt_V     0.01126\n",
      "epoch       0.571 | loss_total     1.37274 | train_AUC    0.73113 | valid_AUC     0.71811 | grad_wrt_mu     0.61470 | grad_wrt_b_per_user     0.00107 | grad_wrt_c_per_item     0.00069 | grad_wrt_U     0.02217 | grad_wrt_V     0.01311\n",
      "epoch       0.714 | loss_total     1.27167 | train_AUC    0.73169 | valid_AUC     0.71753 | grad_wrt_mu     0.20382 | grad_wrt_b_per_user     0.00088 | grad_wrt_c_per_item     0.00056 | grad_wrt_U     0.00984 | grad_wrt_V     0.00640\n",
      "epoch       0.857 | loss_total     1.26392 | train_AUC    0.73700 | valid_AUC     0.72301 | grad_wrt_mu     0.29304 | grad_wrt_b_per_user     0.00091 | grad_wrt_c_per_item     0.00060 | grad_wrt_U     0.01105 | grad_wrt_V     0.00730\n",
      "epoch       1.000 | loss_total     1.33664 | train_AUC    0.73833 | valid_AUC     0.72445 | grad_wrt_mu     0.50396 | grad_wrt_b_per_user     0.00097 | grad_wrt_c_per_item     0.00058 | grad_wrt_U     0.02468 | grad_wrt_V     0.01565\n",
      "epoch       1.143 | loss_total     1.28540 | train_AUC    0.74140 | valid_AUC     0.72741 | grad_wrt_mu     0.32299 | grad_wrt_b_per_user     0.00093 | grad_wrt_c_per_item     0.00061 | grad_wrt_U     0.00933 | grad_wrt_V     0.00589\n",
      "epoch       1.286 | loss_total     1.28068 | train_AUC    0.74080 | valid_AUC     0.72635 | grad_wrt_mu     0.12950 | grad_wrt_b_per_user     0.00089 | grad_wrt_c_per_item     0.00059 | grad_wrt_U     0.00399 | grad_wrt_V     0.00253\n",
      "epoch       1.429 | loss_total     1.27674 | train_AUC    0.74113 | valid_AUC     0.72678 | grad_wrt_mu     0.20605 | grad_wrt_b_per_user     0.00089 | grad_wrt_c_per_item     0.00059 | grad_wrt_U     0.00663 | grad_wrt_V     0.00406\n",
      "epoch       1.571 | loss_total     1.23109 | train_AUC    0.74151 | valid_AUC     0.72708 | grad_wrt_mu     0.11721 | grad_wrt_b_per_user     0.00086 | grad_wrt_c_per_item     0.00057 | grad_wrt_U     0.00405 | grad_wrt_V     0.00246\n",
      "epoch       1.714 | loss_total     1.27247 | train_AUC    0.74192 | valid_AUC     0.72758 | grad_wrt_mu     0.12292 | grad_wrt_b_per_user     0.00086 | grad_wrt_c_per_item     0.00058 | grad_wrt_U     0.00416 | grad_wrt_V     0.00269\n",
      "epoch       1.857 | loss_total     1.27251 | train_AUC    0.74209 | valid_AUC     0.72772 | grad_wrt_mu     0.01277 | grad_wrt_b_per_user     0.00090 | grad_wrt_c_per_item     0.00058 | grad_wrt_U     0.00047 | grad_wrt_V     0.00030\n",
      "epoch       2.000 | loss_total     1.29578 | train_AUC    0.74292 | valid_AUC     0.72825 | grad_wrt_mu     0.17489 | grad_wrt_b_per_user     0.00086 | grad_wrt_c_per_item     0.00057 | grad_wrt_U     0.00655 | grad_wrt_V     0.00403\n",
      "epoch       2.571 | loss_total     1.26973 | train_AUC    0.74422 | valid_AUC     0.72962 | grad_wrt_mu     0.02600 | grad_wrt_b_per_user     0.00088 | grad_wrt_c_per_item     0.00057 | grad_wrt_U     0.00086 | grad_wrt_V     0.00055\n",
      "epoch       3.000 | loss_total     1.26131 | train_AUC    0.74478 | valid_AUC     0.72967 | grad_wrt_mu     0.12496 | grad_wrt_b_per_user     0.00089 | grad_wrt_c_per_item     0.00059 | grad_wrt_U     0.00409 | grad_wrt_V     0.00275\n",
      "epoch       3.571 | loss_total     1.26371 | train_AUC    0.74506 | valid_AUC     0.72994 | grad_wrt_mu     0.14422 | grad_wrt_b_per_user     0.00087 | grad_wrt_c_per_item     0.00056 | grad_wrt_U     0.00520 | grad_wrt_V     0.00328\n",
      "epoch       4.000 | loss_total     1.25844 | train_AUC    0.74538 | valid_AUC     0.73008 | grad_wrt_mu     0.03625 | grad_wrt_b_per_user     0.00090 | grad_wrt_c_per_item     0.00057 | grad_wrt_U     0.00125 | grad_wrt_V     0.00080\n",
      "epoch       4.571 | loss_total     1.25456 | train_AUC    0.74588 | valid_AUC     0.73041 | grad_wrt_mu     0.07703 | grad_wrt_b_per_user     0.00087 | grad_wrt_c_per_item     0.00055 | grad_wrt_U     0.00258 | grad_wrt_V     0.00166\n",
      "epoch       5.000 | loss_total     1.25862 | train_AUC    0.74589 | valid_AUC     0.73044 | grad_wrt_mu     0.08813 | grad_wrt_b_per_user     0.00088 | grad_wrt_c_per_item     0.00055 | grad_wrt_U     0.00303 | grad_wrt_V     0.00189\n",
      "epoch       5.571 | loss_total     1.25278 | train_AUC    0.74618 | valid_AUC     0.73076 | grad_wrt_mu     0.02130 | grad_wrt_b_per_user     0.00089 | grad_wrt_c_per_item     0.00057 | grad_wrt_U     0.00072 | grad_wrt_V     0.00046\n",
      "epoch       6.000 | loss_total     1.25144 | train_AUC    0.74616 | valid_AUC     0.73062 | grad_wrt_mu     0.08331 | grad_wrt_b_per_user     0.00087 | grad_wrt_c_per_item     0.00054 | grad_wrt_U     0.00286 | grad_wrt_V     0.00188\n",
      "epoch       6.571 | loss_total     1.25964 | train_AUC    0.74625 | valid_AUC     0.73063 | grad_wrt_mu     0.03933 | grad_wrt_b_per_user     0.00089 | grad_wrt_c_per_item     0.00057 | grad_wrt_U     0.00129 | grad_wrt_V     0.00084\n",
      "epoch       7.000 | loss_total     1.25143 | train_AUC    0.74639 | valid_AUC     0.73078 | grad_wrt_mu     0.02477 | grad_wrt_b_per_user     0.00085 | grad_wrt_c_per_item     0.00056 | grad_wrt_U     0.00085 | grad_wrt_V     0.00053\n",
      "epoch       7.571 | loss_total     1.24691 | train_AUC    0.74648 | valid_AUC     0.73085 | grad_wrt_mu     0.01285 | grad_wrt_b_per_user     0.00084 | grad_wrt_c_per_item     0.00058 | grad_wrt_U     0.00041 | grad_wrt_V     0.00028\n",
      "epoch       8.000 | loss_total     1.25458 | train_AUC    0.74659 | valid_AUC     0.73092 | grad_wrt_mu     0.03453 | grad_wrt_b_per_user     0.00085 | grad_wrt_c_per_item     0.00056 | grad_wrt_U     0.00118 | grad_wrt_V     0.00077\n",
      "epoch       9.000 | loss_total     1.24551 | train_AUC    0.74676 | valid_AUC     0.73103 | grad_wrt_mu     0.06210 | grad_wrt_b_per_user     0.00088 | grad_wrt_c_per_item     0.00057 | grad_wrt_U     0.00209 | grad_wrt_V     0.00133\n",
      "epoch       9.857 | loss_total     1.24509 | train_AUC    0.74686 | valid_AUC     0.73105 | grad_wrt_mu     0.07601 | grad_wrt_b_per_user     0.00085 | grad_wrt_c_per_item     0.00056 | grad_wrt_U     0.00255 | grad_wrt_V     0.00159\n",
      "==================K=10===========\n",
      "epoch       0.000 | loss_total     1.52297 | train_AUC    0.50000 | valid_AUC     0.50000 | grad_wrt_mu     0.98961 | grad_wrt_b_per_user     0.00131 | grad_wrt_c_per_item     0.00081 | grad_wrt_U     0.02295 | grad_wrt_V     0.01477\n",
      "epoch       0.143 | loss_total     1.45305 | train_AUC    0.69847 | valid_AUC     0.68507 | grad_wrt_mu     0.84634 | grad_wrt_b_per_user     0.00120 | grad_wrt_c_per_item     0.00075 | grad_wrt_U     0.02247 | grad_wrt_V     0.01449\n",
      "epoch       0.286 | loss_total     1.30665 | train_AUC    0.70956 | valid_AUC     0.69473 | grad_wrt_mu     0.25385 | grad_wrt_b_per_user     0.00092 | grad_wrt_c_per_item     0.00059 | grad_wrt_U     0.00830 | grad_wrt_V     0.00540\n",
      "epoch       0.429 | loss_total     1.35100 | train_AUC    0.72751 | valid_AUC     0.71148 | grad_wrt_mu     0.56971 | grad_wrt_b_per_user     0.00105 | grad_wrt_c_per_item     0.00067 | grad_wrt_U     0.01649 | grad_wrt_V     0.01066\n",
      "epoch       0.571 | loss_total     1.31231 | train_AUC    0.72892 | valid_AUC     0.71416 | grad_wrt_mu     0.43050 | grad_wrt_b_per_user     0.00096 | grad_wrt_c_per_item     0.00058 | grad_wrt_U     0.01551 | grad_wrt_V     0.00972\n",
      "epoch       0.714 | loss_total     1.35634 | train_AUC    0.73714 | valid_AUC     0.72170 | grad_wrt_mu     0.65981 | grad_wrt_b_per_user     0.00106 | grad_wrt_c_per_item     0.00069 | grad_wrt_U     0.01885 | grad_wrt_V     0.01202\n",
      "epoch       0.857 | loss_total     1.27049 | train_AUC    0.73666 | valid_AUC     0.72212 | grad_wrt_mu     0.36525 | grad_wrt_b_per_user     0.00094 | grad_wrt_c_per_item     0.00061 | grad_wrt_U     0.01159 | grad_wrt_V     0.00768\n",
      "epoch       1.000 | loss_total     2.83044 | train_AUC    0.73721 | valid_AUC     0.72280 | grad_wrt_mu     2.50106 | grad_wrt_b_per_user     0.00266 | grad_wrt_c_per_item     0.00149 | grad_wrt_U     0.09193 | grad_wrt_V     0.05971\n",
      "epoch       1.143 | loss_total    64.52261 | train_AUC    0.74541 | valid_AUC     0.73004 | grad_wrt_mu    15.90451 | grad_wrt_b_per_user     0.01687 | grad_wrt_c_per_item     0.00946 | grad_wrt_U     1.29019 | grad_wrt_V     0.81400\n",
      "epoch       1.286 | loss_total  27548223.51093 | train_AUC    0.65405 | valid_AUC     0.63427 | grad_wrt_mu 10497.28008 | grad_wrt_b_per_user    11.13179 | grad_wrt_c_per_item     6.24095 | grad_wrt_U 19363.84370 | grad_wrt_V 11971.64798\n",
      "epoch       1.429 | loss_total  2834672444736206417166336.00000 | train_AUC    0.46523 | valid_AUC     0.45762 | grad_wrt_mu 3367297102862.29834 | grad_wrt_b_per_user 3570834679.59947 | grad_wrt_c_per_item 2001960227.62324 | grad_wrt_U 107713445515805872.00000 | grad_wrt_V 69392311389830144.00000\n",
      "epoch       1.571 | loss_total  3024343056725737901019441947339419761387737647827076605774861258890225385472.00000 | train_AUC    0.50000 | valid_AUC     0.50000 | grad_wrt_mu 109988054928264640853783722053471305728.00000 | grad_wrt_b_per_user 116636325480662389609012848647733248.00000 | grad_wrt_c_per_item 65391233607767312366361691039989760.00000 | grad_wrt_U 20880332571879384842565054660945236527882380553576513536.00000 | grad_wrt_V 12320146834420623426829186708145883153749150477024493568.00000\n",
      "epoch       1.714 | loss_total  3791158335050942483066419577276922307245163940017577368767814560066798669878674004037139386312054475291853640260563247985842135985113507649159031079242512706863799424273881613546778589780371833467685865453745909580176400272326656.00000 | train_AUC    0.50000 | valid_AUC     0.50000 | grad_wrt_mu 3894179418080755712392792576455319795050388390453951098684352791219101786990894108638760262380446680560747524653056.00000 | grad_wrt_b_per_user 4129564600297724316334042193784337125101585134604094219570033335477248625340008429099391527174987844621531348992.00000 | grad_wrt_c_per_item 2315207739643730096170662095752074660755474409782076332130632191396215442275541924703833119502646455045336334336.00000 | grad_wrt_U 134015481615655861201115096297529070456726237811934743852165574673456668661097529749019359633837798674395694134896885032259663363446245869299797191354146940649963840864256.00000 | grad_wrt_V 86244509415591041015309913623908954958300563770324331119619064844106203809148541045562726177156456502743487588378353388342029527836089233456806656320504969204506877231104.00000\n",
      "yhat_N:\n",
      "Autograd ArrayBox with value [nan nan nan ... nan nan nan]\n",
      "yhat_N:\n",
      "[nan nan nan ... nan nan nan]\n"
     ]
    },
    {
     "name": "stderr",
     "output_type": "stream",
     "text": [
      "/home/thayes/miniconda3/envs/cs135_env/lib/python3.10/site-packages/autograd/tracer.py:48: RuntimeWarning: overflow encountered in multiply\n",
      "  return f_raw(*args, **kwargs)\n",
      "/home/thayes/.local/lib/python3.10/site-packages/numpy/core/fromnumeric.py:88: RuntimeWarning: invalid value encountered in reduce\n",
      "  return ufunc.reduce(obj, axis, dtype, out, **passkwargs)\n",
      "/projects/school/CS-135/projectB/CollabFilterOneVectorPerItem.py:104: RuntimeWarning: overflow encountered in multiply\n",
      "  factor_mult = user_factor_items * item_factor_items\n"
     ]
    },
    {
     "ename": "ValueError",
     "evalue": "Input contains NaN.",
     "output_type": "error",
     "traceback": [
      "\u001b[0;31m---------------------------------------------------------------------------\u001b[0m",
      "\u001b[0;31mValueError\u001b[0m                                Traceback (most recent call last)",
      "Cell \u001b[0;32mIn[2], line 12\u001b[0m\n\u001b[1;32m      8\u001b[0m model \u001b[38;5;241m=\u001b[39m CollabFilterOneVectorPerItem(\n\u001b[1;32m      9\u001b[0m     n_epochs\u001b[38;5;241m=\u001b[39m\u001b[38;5;241m10\u001b[39m, batch_size\u001b[38;5;241m=\u001b[39m\u001b[38;5;241m10000\u001b[39m, step_size\u001b[38;5;241m=\u001b[39m\u001b[38;5;241m0.1\u001b[39m,\n\u001b[1;32m     10\u001b[0m     n_factors\u001b[38;5;241m=\u001b[39mK, alpha\u001b[38;5;241m=\u001b[39malpha)\n\u001b[1;32m     11\u001b[0m model\u001b[38;5;241m.\u001b[39minit_parameter_dict(n_users, n_items, train_tuple)\n\u001b[0;32m---> 12\u001b[0m \u001b[43mmodel\u001b[49m\u001b[38;5;241;43m.\u001b[39;49m\u001b[43mfit\u001b[49m\u001b[43m(\u001b[49m\u001b[43mtrain_tuple\u001b[49m\u001b[43m,\u001b[49m\u001b[43m \u001b[49m\u001b[43mvalid_tuple\u001b[49m\u001b[43m)\u001b[49m\n\u001b[1;32m     14\u001b[0m \u001b[38;5;66;03m# print(f\"model.trace_loss: {model.trace_loss}\")\u001b[39;00m\n\u001b[1;32m     15\u001b[0m \u001b[38;5;66;03m# print(f\"model.trace_epoch: {model.trace_epoch}\")\u001b[39;00m\n\u001b[1;32m     16\u001b[0m \u001b[38;5;66;03m# print(f\"model.trace_auc_train: {model.trace_auc_train}\")\u001b[39;00m\n\u001b[1;32m     17\u001b[0m \u001b[38;5;66;03m# print(f\"model.trace_auc_valid: {model.trace_auc_valid}\")\u001b[39;00m\n\u001b[1;32m     19\u001b[0m models_by_K[K] \u001b[38;5;241m=\u001b[39m model\n",
      "File \u001b[0;32m/projects/school/CS-135/projectB/AbstractBaseCollabFilterSGD.py:337\u001b[0m, in \u001b[0;36mAbstractBaseCollabFilterSGD.fit\u001b[0;34m(self, train_data_tuple, valid_data_tuple)\u001b[0m\n\u001b[1;32m    334\u001b[0m \u001b[38;5;28mself\u001b[39m\u001b[38;5;241m.\u001b[39mtrace_loss\u001b[38;5;241m.\u001b[39mappend(loss)\n\u001b[1;32m    336\u001b[0m \u001b[38;5;66;03m# Compute MAE/MSE metrics on training and validation data\u001b[39;00m\n\u001b[0;32m--> 337\u001b[0m train_perf_dict \u001b[38;5;241m=\u001b[39m \u001b[38;5;28;43mself\u001b[39;49m\u001b[38;5;241;43m.\u001b[39;49m\u001b[43mevaluate_perf_metrics\u001b[49m\u001b[43m(\u001b[49m\u001b[38;5;241;43m*\u001b[39;49m\u001b[43mtrain_data_tuple\u001b[49m\u001b[43m)\u001b[49m\n\u001b[1;32m    338\u001b[0m valid_perf_dict \u001b[38;5;241m=\u001b[39m \u001b[38;5;28mself\u001b[39m\u001b[38;5;241m.\u001b[39mevaluate_perf_metrics(\u001b[38;5;241m*\u001b[39mvalid_data_tuple)\n\u001b[1;32m    339\u001b[0m \u001b[38;5;28mself\u001b[39m\u001b[38;5;241m.\u001b[39mtrace_auc_train\u001b[38;5;241m.\u001b[39mappend(train_perf_dict[\u001b[38;5;124m'\u001b[39m\u001b[38;5;124mauc\u001b[39m\u001b[38;5;124m'\u001b[39m])\n",
      "File \u001b[0;32m/projects/school/CS-135/projectB/AbstractBaseCollabFilterSGD.py:208\u001b[0m, in \u001b[0;36mAbstractBaseCollabFilterSGD.evaluate_perf_metrics\u001b[0;34m(self, user_id_N, item_id_N, ratings_N)\u001b[0m\n\u001b[1;32m    206\u001b[0m n_examples \u001b[38;5;241m=\u001b[39m user_id_N\u001b[38;5;241m.\u001b[39msize\n\u001b[1;32m    207\u001b[0m yhat_N \u001b[38;5;241m=\u001b[39m \u001b[38;5;28mself\u001b[39m\u001b[38;5;241m.\u001b[39mpredict(user_id_N, item_id_N, \u001b[38;5;241m*\u001b[39m\u001b[38;5;241m*\u001b[39m\u001b[38;5;28mself\u001b[39m\u001b[38;5;241m.\u001b[39mparam_dict)\n\u001b[0;32m--> 208\u001b[0m fpr, tpr, thresholds \u001b[38;5;241m=\u001b[39m \u001b[43mmetrics\u001b[49m\u001b[38;5;241;43m.\u001b[39;49m\u001b[43mroc_curve\u001b[49m\u001b[43m(\u001b[49m\u001b[43my_true\u001b[49m\u001b[38;5;241;43m=\u001b[39;49m\u001b[43mratings_N\u001b[49m\u001b[43m \u001b[49m\u001b[38;5;241;43m>\u001b[39;49m\u001b[43m \u001b[49m\u001b[38;5;241;43m4\u001b[39;49m\u001b[43m,\u001b[49m\u001b[43m \u001b[49m\u001b[43my_score\u001b[49m\u001b[38;5;241;43m=\u001b[39;49m\u001b[43myhat_N\u001b[49m\u001b[43m)\u001b[49m\n\u001b[1;32m    209\u001b[0m auc \u001b[38;5;241m=\u001b[39m metrics\u001b[38;5;241m.\u001b[39mauc(fpr, tpr)\n\u001b[1;32m    210\u001b[0m mse \u001b[38;5;241m=\u001b[39m np\u001b[38;5;241m.\u001b[39mmean(np\u001b[38;5;241m.\u001b[39msquare(yhat_N \u001b[38;5;241m-\u001b[39m ratings_N))\n",
      "File \u001b[0;32m~/miniconda3/envs/cs135_env/lib/python3.10/site-packages/sklearn/utils/_param_validation.py:211\u001b[0m, in \u001b[0;36mvalidate_params.<locals>.decorator.<locals>.wrapper\u001b[0;34m(*args, **kwargs)\u001b[0m\n\u001b[1;32m    205\u001b[0m \u001b[38;5;28;01mtry\u001b[39;00m:\n\u001b[1;32m    206\u001b[0m     \u001b[38;5;28;01mwith\u001b[39;00m config_context(\n\u001b[1;32m    207\u001b[0m         skip_parameter_validation\u001b[38;5;241m=\u001b[39m(\n\u001b[1;32m    208\u001b[0m             prefer_skip_nested_validation \u001b[38;5;129;01mor\u001b[39;00m global_skip_validation\n\u001b[1;32m    209\u001b[0m         )\n\u001b[1;32m    210\u001b[0m     ):\n\u001b[0;32m--> 211\u001b[0m         \u001b[38;5;28;01mreturn\u001b[39;00m \u001b[43mfunc\u001b[49m\u001b[43m(\u001b[49m\u001b[38;5;241;43m*\u001b[39;49m\u001b[43margs\u001b[49m\u001b[43m,\u001b[49m\u001b[43m \u001b[49m\u001b[38;5;241;43m*\u001b[39;49m\u001b[38;5;241;43m*\u001b[39;49m\u001b[43mkwargs\u001b[49m\u001b[43m)\u001b[49m\n\u001b[1;32m    212\u001b[0m \u001b[38;5;28;01mexcept\u001b[39;00m InvalidParameterError \u001b[38;5;28;01mas\u001b[39;00m e:\n\u001b[1;32m    213\u001b[0m     \u001b[38;5;66;03m# When the function is just a wrapper around an estimator, we allow\u001b[39;00m\n\u001b[1;32m    214\u001b[0m     \u001b[38;5;66;03m# the function to delegate validation to the estimator, but we replace\u001b[39;00m\n\u001b[1;32m    215\u001b[0m     \u001b[38;5;66;03m# the name of the estimator by the name of the function in the error\u001b[39;00m\n\u001b[1;32m    216\u001b[0m     \u001b[38;5;66;03m# message to avoid confusion.\u001b[39;00m\n\u001b[1;32m    217\u001b[0m     msg \u001b[38;5;241m=\u001b[39m re\u001b[38;5;241m.\u001b[39msub(\n\u001b[1;32m    218\u001b[0m         \u001b[38;5;124mr\u001b[39m\u001b[38;5;124m\"\u001b[39m\u001b[38;5;124mparameter of \u001b[39m\u001b[38;5;124m\\\u001b[39m\u001b[38;5;124mw+ must be\u001b[39m\u001b[38;5;124m\"\u001b[39m,\n\u001b[1;32m    219\u001b[0m         \u001b[38;5;124mf\u001b[39m\u001b[38;5;124m\"\u001b[39m\u001b[38;5;124mparameter of \u001b[39m\u001b[38;5;132;01m{\u001b[39;00mfunc\u001b[38;5;241m.\u001b[39m\u001b[38;5;18m__qualname__\u001b[39m\u001b[38;5;132;01m}\u001b[39;00m\u001b[38;5;124m must be\u001b[39m\u001b[38;5;124m\"\u001b[39m,\n\u001b[1;32m    220\u001b[0m         \u001b[38;5;28mstr\u001b[39m(e),\n\u001b[1;32m    221\u001b[0m     )\n",
      "File \u001b[0;32m~/miniconda3/envs/cs135_env/lib/python3.10/site-packages/sklearn/metrics/_ranking.py:1094\u001b[0m, in \u001b[0;36mroc_curve\u001b[0;34m(y_true, y_score, pos_label, sample_weight, drop_intermediate)\u001b[0m\n\u001b[1;32m    992\u001b[0m \u001b[38;5;129m@validate_params\u001b[39m(\n\u001b[1;32m    993\u001b[0m     {\n\u001b[1;32m    994\u001b[0m         \u001b[38;5;124m\"\u001b[39m\u001b[38;5;124my_true\u001b[39m\u001b[38;5;124m\"\u001b[39m: [\u001b[38;5;124m\"\u001b[39m\u001b[38;5;124marray-like\u001b[39m\u001b[38;5;124m\"\u001b[39m],\n\u001b[0;32m   (...)\u001b[0m\n\u001b[1;32m   1003\u001b[0m     y_true, y_score, \u001b[38;5;241m*\u001b[39m, pos_label\u001b[38;5;241m=\u001b[39m\u001b[38;5;28;01mNone\u001b[39;00m, sample_weight\u001b[38;5;241m=\u001b[39m\u001b[38;5;28;01mNone\u001b[39;00m, drop_intermediate\u001b[38;5;241m=\u001b[39m\u001b[38;5;28;01mTrue\u001b[39;00m\n\u001b[1;32m   1004\u001b[0m ):\n\u001b[1;32m   1005\u001b[0m \u001b[38;5;250m    \u001b[39m\u001b[38;5;124;03m\"\"\"Compute Receiver operating characteristic (ROC).\u001b[39;00m\n\u001b[1;32m   1006\u001b[0m \n\u001b[1;32m   1007\u001b[0m \u001b[38;5;124;03m    Note: this implementation is restricted to the binary classification task.\u001b[39;00m\n\u001b[0;32m   (...)\u001b[0m\n\u001b[1;32m   1092\u001b[0m \u001b[38;5;124;03m    array([ inf, 0.8 , 0.4 , 0.35, 0.1 ])\u001b[39;00m\n\u001b[1;32m   1093\u001b[0m \u001b[38;5;124;03m    \"\"\"\u001b[39;00m\n\u001b[0;32m-> 1094\u001b[0m     fps, tps, thresholds \u001b[38;5;241m=\u001b[39m \u001b[43m_binary_clf_curve\u001b[49m\u001b[43m(\u001b[49m\n\u001b[1;32m   1095\u001b[0m \u001b[43m        \u001b[49m\u001b[43my_true\u001b[49m\u001b[43m,\u001b[49m\u001b[43m \u001b[49m\u001b[43my_score\u001b[49m\u001b[43m,\u001b[49m\u001b[43m \u001b[49m\u001b[43mpos_label\u001b[49m\u001b[38;5;241;43m=\u001b[39;49m\u001b[43mpos_label\u001b[49m\u001b[43m,\u001b[49m\u001b[43m \u001b[49m\u001b[43msample_weight\u001b[49m\u001b[38;5;241;43m=\u001b[39;49m\u001b[43msample_weight\u001b[49m\n\u001b[1;32m   1096\u001b[0m \u001b[43m    \u001b[49m\u001b[43m)\u001b[49m\n\u001b[1;32m   1098\u001b[0m     \u001b[38;5;66;03m# Attempt to drop thresholds corresponding to points in between and\u001b[39;00m\n\u001b[1;32m   1099\u001b[0m     \u001b[38;5;66;03m# collinear with other points. These are always suboptimal and do not\u001b[39;00m\n\u001b[1;32m   1100\u001b[0m     \u001b[38;5;66;03m# appear on a plotted ROC curve (and thus do not affect the AUC).\u001b[39;00m\n\u001b[0;32m   (...)\u001b[0m\n\u001b[1;32m   1105\u001b[0m     \u001b[38;5;66;03m# but does not drop more complicated cases like fps = [1, 3, 7],\u001b[39;00m\n\u001b[1;32m   1106\u001b[0m     \u001b[38;5;66;03m# tps = [1, 2, 4]; there is no harm in keeping too many thresholds.\u001b[39;00m\n\u001b[1;32m   1107\u001b[0m     \u001b[38;5;28;01mif\u001b[39;00m drop_intermediate \u001b[38;5;129;01mand\u001b[39;00m \u001b[38;5;28mlen\u001b[39m(fps) \u001b[38;5;241m>\u001b[39m \u001b[38;5;241m2\u001b[39m:\n",
      "File \u001b[0;32m~/miniconda3/envs/cs135_env/lib/python3.10/site-packages/sklearn/metrics/_ranking.py:809\u001b[0m, in \u001b[0;36m_binary_clf_curve\u001b[0;34m(y_true, y_score, pos_label, sample_weight)\u001b[0m\n\u001b[1;32m    807\u001b[0m y_score \u001b[38;5;241m=\u001b[39m column_or_1d(y_score)\n\u001b[1;32m    808\u001b[0m assert_all_finite(y_true)\n\u001b[0;32m--> 809\u001b[0m \u001b[43massert_all_finite\u001b[49m\u001b[43m(\u001b[49m\u001b[43my_score\u001b[49m\u001b[43m)\u001b[49m\n\u001b[1;32m    811\u001b[0m \u001b[38;5;66;03m# Filter out zero-weighted samples, as they should not impact the result\u001b[39;00m\n\u001b[1;32m    812\u001b[0m \u001b[38;5;28;01mif\u001b[39;00m sample_weight \u001b[38;5;129;01mis\u001b[39;00m \u001b[38;5;129;01mnot\u001b[39;00m \u001b[38;5;28;01mNone\u001b[39;00m:\n",
      "File \u001b[0;32m~/miniconda3/envs/cs135_env/lib/python3.10/site-packages/sklearn/utils/validation.py:202\u001b[0m, in \u001b[0;36massert_all_finite\u001b[0;34m(X, allow_nan, estimator_name, input_name)\u001b[0m\n\u001b[1;32m    176\u001b[0m \u001b[38;5;28;01mdef\u001b[39;00m \u001b[38;5;21massert_all_finite\u001b[39m(\n\u001b[1;32m    177\u001b[0m     X,\n\u001b[1;32m    178\u001b[0m     \u001b[38;5;241m*\u001b[39m,\n\u001b[0;32m   (...)\u001b[0m\n\u001b[1;32m    181\u001b[0m     input_name\u001b[38;5;241m=\u001b[39m\u001b[38;5;124m\"\u001b[39m\u001b[38;5;124m\"\u001b[39m,\n\u001b[1;32m    182\u001b[0m ):\n\u001b[1;32m    183\u001b[0m \u001b[38;5;250m    \u001b[39m\u001b[38;5;124;03m\"\"\"Throw a ValueError if X contains NaN or infinity.\u001b[39;00m\n\u001b[1;32m    184\u001b[0m \n\u001b[1;32m    185\u001b[0m \u001b[38;5;124;03m    Parameters\u001b[39;00m\n\u001b[0;32m   (...)\u001b[0m\n\u001b[1;32m    200\u001b[0m \u001b[38;5;124;03m        documentation.\u001b[39;00m\n\u001b[1;32m    201\u001b[0m \u001b[38;5;124;03m    \"\"\"\u001b[39;00m\n\u001b[0;32m--> 202\u001b[0m     \u001b[43m_assert_all_finite\u001b[49m\u001b[43m(\u001b[49m\n\u001b[1;32m    203\u001b[0m \u001b[43m        \u001b[49m\u001b[43mX\u001b[49m\u001b[38;5;241;43m.\u001b[39;49m\u001b[43mdata\u001b[49m\u001b[43m \u001b[49m\u001b[38;5;28;43;01mif\u001b[39;49;00m\u001b[43m \u001b[49m\u001b[43msp\u001b[49m\u001b[38;5;241;43m.\u001b[39;49m\u001b[43missparse\u001b[49m\u001b[43m(\u001b[49m\u001b[43mX\u001b[49m\u001b[43m)\u001b[49m\u001b[43m \u001b[49m\u001b[38;5;28;43;01melse\u001b[39;49;00m\u001b[43m \u001b[49m\u001b[43mX\u001b[49m\u001b[43m,\u001b[49m\n\u001b[1;32m    204\u001b[0m \u001b[43m        \u001b[49m\u001b[43mallow_nan\u001b[49m\u001b[38;5;241;43m=\u001b[39;49m\u001b[43mallow_nan\u001b[49m\u001b[43m,\u001b[49m\n\u001b[1;32m    205\u001b[0m \u001b[43m        \u001b[49m\u001b[43mestimator_name\u001b[49m\u001b[38;5;241;43m=\u001b[39;49m\u001b[43mestimator_name\u001b[49m\u001b[43m,\u001b[49m\n\u001b[1;32m    206\u001b[0m \u001b[43m        \u001b[49m\u001b[43minput_name\u001b[49m\u001b[38;5;241;43m=\u001b[39;49m\u001b[43minput_name\u001b[49m\u001b[43m,\u001b[49m\n\u001b[1;32m    207\u001b[0m \u001b[43m    \u001b[49m\u001b[43m)\u001b[49m\n",
      "File \u001b[0;32m~/miniconda3/envs/cs135_env/lib/python3.10/site-packages/sklearn/utils/validation.py:124\u001b[0m, in \u001b[0;36m_assert_all_finite\u001b[0;34m(X, allow_nan, msg_dtype, estimator_name, input_name)\u001b[0m\n\u001b[1;32m    121\u001b[0m \u001b[38;5;28;01mif\u001b[39;00m first_pass_isfinite:\n\u001b[1;32m    122\u001b[0m     \u001b[38;5;28;01mreturn\u001b[39;00m\n\u001b[0;32m--> 124\u001b[0m \u001b[43m_assert_all_finite_element_wise\u001b[49m\u001b[43m(\u001b[49m\n\u001b[1;32m    125\u001b[0m \u001b[43m    \u001b[49m\u001b[43mX\u001b[49m\u001b[43m,\u001b[49m\n\u001b[1;32m    126\u001b[0m \u001b[43m    \u001b[49m\u001b[43mxp\u001b[49m\u001b[38;5;241;43m=\u001b[39;49m\u001b[43mxp\u001b[49m\u001b[43m,\u001b[49m\n\u001b[1;32m    127\u001b[0m \u001b[43m    \u001b[49m\u001b[43mallow_nan\u001b[49m\u001b[38;5;241;43m=\u001b[39;49m\u001b[43mallow_nan\u001b[49m\u001b[43m,\u001b[49m\n\u001b[1;32m    128\u001b[0m \u001b[43m    \u001b[49m\u001b[43mmsg_dtype\u001b[49m\u001b[38;5;241;43m=\u001b[39;49m\u001b[43mmsg_dtype\u001b[49m\u001b[43m,\u001b[49m\n\u001b[1;32m    129\u001b[0m \u001b[43m    \u001b[49m\u001b[43mestimator_name\u001b[49m\u001b[38;5;241;43m=\u001b[39;49m\u001b[43mestimator_name\u001b[49m\u001b[43m,\u001b[49m\n\u001b[1;32m    130\u001b[0m \u001b[43m    \u001b[49m\u001b[43minput_name\u001b[49m\u001b[38;5;241;43m=\u001b[39;49m\u001b[43minput_name\u001b[49m\u001b[43m,\u001b[49m\n\u001b[1;32m    131\u001b[0m \u001b[43m\u001b[49m\u001b[43m)\u001b[49m\n",
      "File \u001b[0;32m~/miniconda3/envs/cs135_env/lib/python3.10/site-packages/sklearn/utils/validation.py:173\u001b[0m, in \u001b[0;36m_assert_all_finite_element_wise\u001b[0;34m(X, xp, allow_nan, msg_dtype, estimator_name, input_name)\u001b[0m\n\u001b[1;32m    156\u001b[0m \u001b[38;5;28;01mif\u001b[39;00m estimator_name \u001b[38;5;129;01mand\u001b[39;00m input_name \u001b[38;5;241m==\u001b[39m \u001b[38;5;124m\"\u001b[39m\u001b[38;5;124mX\u001b[39m\u001b[38;5;124m\"\u001b[39m \u001b[38;5;129;01mand\u001b[39;00m has_nan_error:\n\u001b[1;32m    157\u001b[0m     \u001b[38;5;66;03m# Improve the error message on how to handle missing values in\u001b[39;00m\n\u001b[1;32m    158\u001b[0m     \u001b[38;5;66;03m# scikit-learn.\u001b[39;00m\n\u001b[1;32m    159\u001b[0m     msg_err \u001b[38;5;241m+\u001b[39m\u001b[38;5;241m=\u001b[39m (\n\u001b[1;32m    160\u001b[0m         \u001b[38;5;124mf\u001b[39m\u001b[38;5;124m\"\u001b[39m\u001b[38;5;130;01m\\n\u001b[39;00m\u001b[38;5;132;01m{\u001b[39;00mestimator_name\u001b[38;5;132;01m}\u001b[39;00m\u001b[38;5;124m does not accept missing values\u001b[39m\u001b[38;5;124m\"\u001b[39m\n\u001b[1;32m    161\u001b[0m         \u001b[38;5;124m\"\u001b[39m\u001b[38;5;124m encoded as NaN natively. For supervised learning, you might want\u001b[39m\u001b[38;5;124m\"\u001b[39m\n\u001b[0;32m   (...)\u001b[0m\n\u001b[1;32m    171\u001b[0m         \u001b[38;5;124m\"\u001b[39m\u001b[38;5;124m#estimators-that-handle-nan-values\u001b[39m\u001b[38;5;124m\"\u001b[39m\n\u001b[1;32m    172\u001b[0m     )\n\u001b[0;32m--> 173\u001b[0m \u001b[38;5;28;01mraise\u001b[39;00m \u001b[38;5;167;01mValueError\u001b[39;00m(msg_err)\n",
      "\u001b[0;31mValueError\u001b[0m: Input contains NaN."
     ]
    }
   ],
   "source": [
    "alpha = 0.0\n",
    "K_values = [2, 10, 50]\n",
    "\n",
    "models_by_K = {}\n",
    "\n",
    "for K in K_values:\n",
    "    print(f\"==================K={K}===========\")\n",
    "    model = CollabFilterOneVectorPerItem(\n",
    "        n_epochs=10, batch_size=10000, step_size=0.1,\n",
    "        n_factors=K, alpha=alpha)\n",
    "    model.init_parameter_dict(n_users, n_items, train_tuple)\n",
    "    model.fit(train_tuple, valid_tuple)\n",
    "    \n",
    "    # print(f\"model.trace_loss: {model.trace_loss}\")\n",
    "    # print(f\"model.trace_epoch: {model.trace_epoch}\")\n",
    "    # print(f\"model.trace_auc_train: {model.trace_auc_train}\")\n",
    "    # print(f\"model.trace_auc_valid: {model.trace_auc_valid}\")\n",
    "    \n",
    "    models_by_K[K] = model"
   ]
  },
  {
   "cell_type": "code",
   "execution_count": null,
   "metadata": {},
   "outputs": [],
   "source": [
    "fig, ax = plt.subplots(1, 3, sharex=\"row\")\n",
    "\n",
    "for i, K in enumerate(K_values):\n",
    "    model = models_by_K[K]\n",
    "    # user_id_N, item_id_N, y_N = test_tuple\n",
    "    # yhat_N = model.predict(user_id_N, item_id_N)\n",
    "    mae_by_epoch = model.trace_mae_valid\n",
    "    print(\"mae:\", mae_by_epoch)\n",
    "    a = ax[i]\n",
    "    a.set_title(f\"K = {K}\")\n",
    "    a.plot(mae_by_epoch)"
   ]
  }
 ],
 "metadata": {
  "kernelspec": {
   "display_name": "cs135_env",
   "language": "python",
   "name": "python3"
  },
  "language_info": {
   "codemirror_mode": {
    "name": "ipython",
    "version": 3
   },
   "file_extension": ".py",
   "mimetype": "text/x-python",
   "name": "python",
   "nbconvert_exporter": "python",
   "pygments_lexer": "ipython3",
   "version": "3.10.13"
  }
 },
 "nbformat": 4,
 "nbformat_minor": 2
}
