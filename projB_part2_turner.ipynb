{
 "cells": [
  {
   "cell_type": "code",
   "execution_count": 1,
   "metadata": {},
   "outputs": [],
   "source": [
    "import numpy as np\n",
    "import pandas as pd\n",
    "from surprise import Dataset, NormalPredictor, Reader, SVD, accuracy, Trainset"
   ]
  },
  {
   "cell_type": "code",
   "execution_count": 2,
   "metadata": {},
   "outputs": [],
   "source": [
    "ratings_set_df = pd.read_csv(\"./data_movie_lens_100k/ratings_all_development_set.csv\")\n",
    "users_df = pd.read_csv(\"./data_movie_lens_100k/user_info.csv\")\n",
    "movies_df = pd.read_csv(\"./data_movie_lens_100k/movie_info.csv\")"
   ]
  },
  {
   "cell_type": "code",
   "execution_count": 3,
   "metadata": {},
   "outputs": [
    {
     "name": "stdout",
     "output_type": "stream",
     "text": [
      "       user_id  item_id  rating\n",
      "0          772       36       3\n",
      "1          471      228       5\n",
      "2          641      401       4\n",
      "3          312       98       4\n",
      "4           58      504       5\n",
      "...        ...      ...     ...\n",
      "89987      415      813       4\n",
      "89988      842      120       3\n",
      "89989      574      505       2\n",
      "89990      757      472       5\n",
      "89991      503      204       3\n",
      "\n",
      "[89992 rows x 3 columns]\n",
      "     user_id  age  is_male  orig_user_id\n",
      "0          0   24        1             1\n",
      "1          1   53        0             2\n",
      "2          2   23        1             3\n",
      "3          3   24        1             4\n",
      "4          4   33        0             5\n",
      "..       ...  ...      ...           ...\n",
      "938      938   26        0           939\n",
      "939      939   32        1           940\n",
      "940      940   20        1           941\n",
      "941      941   48        0           942\n",
      "942      942   22        1           943\n",
      "\n",
      "[943 rows x 4 columns]\n"
     ]
    }
   ],
   "source": [
    "print(ratings_set_df)\n",
    "print(users_df)\n",
    "#print(movies_df)"
   ]
  },
  {
   "cell_type": "code",
   "execution_count": 4,
   "metadata": {},
   "outputs": [],
   "source": [
    "from sklearn.model_selection import train_test_split\n",
    "\n",
    "ratings_features = ratings_set_df[[\"user_id\", \"item_id\"]]\n",
    "ratings = ratings_set_df[\"rating\"]\n",
    "X_train, X_test, y_train, y_test = train_test_split(ratings_features, ratings)"
   ]
  },
  {
   "cell_type": "code",
   "execution_count": 5,
   "metadata": {},
   "outputs": [],
   "source": [
    "from train_valid_test_loader import load_train_valid_test_datasets\n",
    "\n",
    "# Load the dataset in the same way as the main problem \n",
    "train_tuple, valid_tuple, test_tuple, n_users, n_items = \\\n",
    "        load_train_valid_test_datasets()\n",
    "\n",
    "\n",
    "def tuple_to_surprise_dataset(tupl):\n",
    "    \"\"\"\n",
    "    This function convert a subset in the tuple form to a `surprise` dataset. \n",
    "    \"\"\"\n",
    "    ratings_dict = {\n",
    "        \"userID\": tupl[0],\n",
    "        \"itemID\": tupl[1],\n",
    "        \"rating\": tupl[2],\n",
    "    }\n",
    "\n",
    "    df = pd.DataFrame(ratings_dict)\n",
    "\n",
    "    # A reader is still needed but only the rating_scale param is requiered.\n",
    "    reader = Reader(rating_scale=(1, 5))\n",
    "\n",
    "    # The columns must correspond to user id, item id and ratings (in that order).\n",
    "    dataset = Dataset.load_from_df(df[[\"userID\", \"itemID\", \"rating\"]], reader)\n",
    "\n",
    "    return dataset\n",
    "\n",
    "## Below we train an SVD model and get its vectors \n",
    "\n",
    "# train an SVD model using the training set\n",
    "trainset = tuple_to_surprise_dataset(train_tuple).build_full_trainset()\n",
    "test_trainset = tuple_to_surprise_dataset(test_tuple).build_full_trainset()\n",
    "valid_trainset = tuple_to_surprise_dataset(valid_tuple).build_full_trainset()"
   ]
  },
  {
   "cell_type": "code",
   "execution_count": null,
   "metadata": {},
   "outputs": [],
   "source": []
  },
  {
   "cell_type": "code",
   "execution_count": 13,
   "metadata": {},
   "outputs": [],
   "source": [
    "\n",
    "\n",
    "def get_features_for_user(user_id):\n",
    "    return np.array(users_df[users_df[\"user_id\"] == user_id].iloc[0][[\"age\", \"is_male\"]])\n",
    "\n",
    "def get_features_for_item(item_id):\n",
    "    return np.array(movies_df[movies_df[\"item_id\"] == item_id].iloc[0][[\"release_year\"]])\n",
    "\n",
    "def get_rating(user_id, item_id, features_df: pd.DataFrame):\n",
    "    return features_df[\n",
    "        (features_df[\"user_id\"] == user_id) &\n",
    "            (features_df[\"item_id\"] == item_id)\n",
    "    ].iloc[0][\"rating\"]\n",
    "\n",
    "def get_feature_vectors(data_tuple, svd: SVD, trainset: Trainset):\n",
    "    user_vectors = svd.pu\n",
    "    item_vectors = svd.qi\n",
    "    \n",
    "    features = np.zeros(\n",
    "        (\n",
    "            len(data_tuple[0]),\n",
    "            user_vectors.shape[1] + item_vectors.shape[1] + len([\"age\", \"is_male\"]) + len([\"release_year\"])\n",
    "        )\n",
    "    )\n",
    "    ratings = []\n",
    "    for index in range(0, len(data_tuple[0])):\n",
    "        user_id = data_tuple[0][index]\n",
    "        item_id = data_tuple[1][index]\n",
    "        # if trainset.knows_user(user_id):\n",
    "        try:\n",
    "            u_i = user_vectors[trainset.to_inner_uid(user_id)]\n",
    "        except:\n",
    "            u_i = np.zeros((user_vectors.shape[1]))\n",
    "        # if trainset.knows_item(item_id):\n",
    "        try:\n",
    "            m_j = item_vectors[trainset.to_inner_iid(item_id)]\n",
    "        except:\n",
    "            m_j = np.zeros((item_vectors.shape[1]))\n",
    "        user_features = get_features_for_user(user_id)\n",
    "        item_features = get_features_for_item(item_id)\n",
    "        feature_vector = np.concatenate(\n",
    "            (\n",
    "                u_i,\n",
    "                m_j,\n",
    "                user_features,\n",
    "                item_features,\n",
    "            ),\n",
    "            axis=0\n",
    "        )\n",
    "        features[index] = feature_vector\n",
    "        \n",
    "        ratings.append(1 if data_tuple[2][index] > 4.5 else 0)\n",
    "    \n",
    "    return features, ratings\n"
   ]
  },
  {
   "cell_type": "code",
   "execution_count": 14,
   "metadata": {},
   "outputs": [],
   "source": [
    "\n",
    "svd = SVD(\n",
    "    n_factors = 10,\n",
    "    n_epochs=50\n",
    ")\n",
    "\n",
    "svd.fit(trainset)\n",
    "\n",
    "\n",
    "features_train, ratings_train = get_feature_vectors(train_tuple, svd, trainset)\n",
    "features_test, ratings_test = get_feature_vectors(test_tuple, svd, trainset)\n",
    "# features_val, ratings_val = get_feature_vectors(valid_tuple, svd, valid_trainset)\n"
   ]
  },
  {
   "cell_type": "code",
   "execution_count": 8,
   "metadata": {},
   "outputs": [],
   "source": [
    "\n",
    "# from sklearn.neural_network import MLPClassifier\n",
    "# from sklearn.model_selection import GridSearchCV\n",
    "# from sklearn.preprocessing import StandardScaler\n",
    "\n",
    "# mlp = MLPClassifier(\n",
    "# )\n",
    "\n",
    "# scaler = StandardScaler()\n",
    "# features_train_scaled = scaler.fit_transform(features_train)\n",
    "\n",
    "# param_grid = {\n",
    "#     \"solver\": [\"adam\", \"sgd\"],\n",
    "#     \"activation\": [\"relu\", \"tanh\"],\n",
    "#     \"hidden_layer_sizes\": [(100,), (50,)],\n",
    "# }\n",
    "\n",
    "# gs = GridSearchCV(\n",
    "#     estimator=mlp,\n",
    "#     param_grid=param_grid,\n",
    "#     refit=True,\n",
    "#     return_train_score=True, \n",
    "    \n",
    "# )\n",
    "\n",
    "# gs.fit(features_train, ratings_train)\n",
    "\n"
   ]
  },
  {
   "cell_type": "code",
   "execution_count": 9,
   "metadata": {},
   "outputs": [],
   "source": [
    "# from sklearn.metrics import RocCurveDisplay\n",
    "\n",
    " \n",
    "# roc_disp = RocCurveDisplay.from_estimator(gs.best_estimator_, features_train, ratings_train)"
   ]
  },
  {
   "cell_type": "code",
   "execution_count": 10,
   "metadata": {},
   "outputs": [],
   "source": [
    "# from sklearn.svm import SVC\n",
    "\n",
    "# svm = SVC(probability=True)\n",
    "\n",
    "# param_grid = {\n",
    "#     'C': [0.1, 1, 10],\n",
    "#     'gamma': [0.01, 0.1, 1],\n",
    "#     'kernel': ['rbf']\n",
    "# }\n",
    "\n",
    "# gs = GridSearchCV(\n",
    "#     estimator=svm,\n",
    "#     param_grid=param_grid,\n",
    "#     cv=3,\n",
    "#     scoring='roc_auc',\n",
    "#     refit=True\n",
    "# )\n",
    "\n",
    "# gs.fit(features_train, ratings_train)\n",
    "\n",
    "# print(gs.best_estimator_)\n",
    "# print(gs.best_score_)\n",
    "\n",
    "# # best_svm = SVC(**best_params, probability=True)\n",
    "# # best_svm.fit(features_train, ratings_train)\n",
    "\n"
   ]
  },
  {
   "cell_type": "code",
   "execution_count": 23,
   "metadata": {},
   "outputs": [
    {
     "data": {
      "text/html": [
       "<style>#sk-container-id-1 {color: black;}#sk-container-id-1 pre{padding: 0;}#sk-container-id-1 div.sk-toggleable {background-color: white;}#sk-container-id-1 label.sk-toggleable__label {cursor: pointer;display: block;width: 100%;margin-bottom: 0;padding: 0.3em;box-sizing: border-box;text-align: center;}#sk-container-id-1 label.sk-toggleable__label-arrow:before {content: \"▸\";float: left;margin-right: 0.25em;color: #696969;}#sk-container-id-1 label.sk-toggleable__label-arrow:hover:before {color: black;}#sk-container-id-1 div.sk-estimator:hover label.sk-toggleable__label-arrow:before {color: black;}#sk-container-id-1 div.sk-toggleable__content {max-height: 0;max-width: 0;overflow: hidden;text-align: left;background-color: #f0f8ff;}#sk-container-id-1 div.sk-toggleable__content pre {margin: 0.2em;color: black;border-radius: 0.25em;background-color: #f0f8ff;}#sk-container-id-1 input.sk-toggleable__control:checked~div.sk-toggleable__content {max-height: 200px;max-width: 100%;overflow: auto;}#sk-container-id-1 input.sk-toggleable__control:checked~label.sk-toggleable__label-arrow:before {content: \"▾\";}#sk-container-id-1 div.sk-estimator input.sk-toggleable__control:checked~label.sk-toggleable__label {background-color: #d4ebff;}#sk-container-id-1 div.sk-label input.sk-toggleable__control:checked~label.sk-toggleable__label {background-color: #d4ebff;}#sk-container-id-1 input.sk-hidden--visually {border: 0;clip: rect(1px 1px 1px 1px);clip: rect(1px, 1px, 1px, 1px);height: 1px;margin: -1px;overflow: hidden;padding: 0;position: absolute;width: 1px;}#sk-container-id-1 div.sk-estimator {font-family: monospace;background-color: #f0f8ff;border: 1px dotted black;border-radius: 0.25em;box-sizing: border-box;margin-bottom: 0.5em;}#sk-container-id-1 div.sk-estimator:hover {background-color: #d4ebff;}#sk-container-id-1 div.sk-parallel-item::after {content: \"\";width: 100%;border-bottom: 1px solid gray;flex-grow: 1;}#sk-container-id-1 div.sk-label:hover label.sk-toggleable__label {background-color: #d4ebff;}#sk-container-id-1 div.sk-serial::before {content: \"\";position: absolute;border-left: 1px solid gray;box-sizing: border-box;top: 0;bottom: 0;left: 50%;z-index: 0;}#sk-container-id-1 div.sk-serial {display: flex;flex-direction: column;align-items: center;background-color: white;padding-right: 0.2em;padding-left: 0.2em;position: relative;}#sk-container-id-1 div.sk-item {position: relative;z-index: 1;}#sk-container-id-1 div.sk-parallel {display: flex;align-items: stretch;justify-content: center;background-color: white;position: relative;}#sk-container-id-1 div.sk-item::before, #sk-container-id-1 div.sk-parallel-item::before {content: \"\";position: absolute;border-left: 1px solid gray;box-sizing: border-box;top: 0;bottom: 0;left: 50%;z-index: -1;}#sk-container-id-1 div.sk-parallel-item {display: flex;flex-direction: column;z-index: 1;position: relative;background-color: white;}#sk-container-id-1 div.sk-parallel-item:first-child::after {align-self: flex-end;width: 50%;}#sk-container-id-1 div.sk-parallel-item:last-child::after {align-self: flex-start;width: 50%;}#sk-container-id-1 div.sk-parallel-item:only-child::after {width: 0;}#sk-container-id-1 div.sk-dashed-wrapped {border: 1px dashed gray;margin: 0 0.4em 0.5em 0.4em;box-sizing: border-box;padding-bottom: 0.4em;background-color: white;}#sk-container-id-1 div.sk-label label {font-family: monospace;font-weight: bold;display: inline-block;line-height: 1.2em;}#sk-container-id-1 div.sk-label-container {text-align: center;}#sk-container-id-1 div.sk-container {/* jupyter's `normalize.less` sets `[hidden] { display: none; }` but bootstrap.min.css set `[hidden] { display: none !important; }` so we also need the `!important` here to be able to override the default hidden behavior on the sphinx rendered scikit-learn.org. See: https://github.com/scikit-learn/scikit-learn/issues/21755 */display: inline-block !important;position: relative;}#sk-container-id-1 div.sk-text-repr-fallback {display: none;}</style><div id=\"sk-container-id-1\" class=\"sk-top-container\"><div class=\"sk-text-repr-fallback\"><pre>RandomForestClassifier(max_depth=32, max_features=3, n_estimators=200)</pre><b>In a Jupyter environment, please rerun this cell to show the HTML representation or trust the notebook. <br />On GitHub, the HTML representation is unable to render, please try loading this page with nbviewer.org.</b></div><div class=\"sk-container\" hidden><div class=\"sk-item\"><div class=\"sk-estimator sk-toggleable\"><input class=\"sk-toggleable__control sk-hidden--visually\" id=\"sk-estimator-id-1\" type=\"checkbox\" checked><label for=\"sk-estimator-id-1\" class=\"sk-toggleable__label sk-toggleable__label-arrow\">RandomForestClassifier</label><div class=\"sk-toggleable__content\"><pre>RandomForestClassifier(max_depth=32, max_features=3, n_estimators=200)</pre></div></div></div></div></div>"
      ],
      "text/plain": [
       "RandomForestClassifier(max_depth=32, max_features=3, n_estimators=200)"
      ]
     },
     "execution_count": 23,
     "metadata": {},
     "output_type": "execute_result"
    }
   ],
   "source": [
    "from sklearn.ensemble import RandomForestClassifier\n",
    "from sklearn.metrics import roc_auc_score\n",
    "from sklearn.model_selection import GridSearchCV\n",
    "\n",
    "SEARCH_FOREST = False\n",
    "\n",
    "if SEARCH_FOREST:\n",
    "    base_forest = RandomForestClassifier(\n",
    "        n_estimators=100,\n",
    "        criterion='gini',\n",
    "        max_depth=16,\n",
    "        min_samples_split=2,\n",
    "        min_samples_leaf=1)\n",
    "\n",
    "    forest_hyperparameter_grid_by_name = dict(\n",
    "        max_features=[3, 10, 33, 100, 333],\n",
    "        max_depth=[16, 32, 64],\n",
    "        min_samples_leaf=[1],\n",
    "        n_estimators=[50, 100, 200],\n",
    "        random_state=[101],\n",
    "        )\n",
    "\n",
    "    forest_searcher = GridSearchCV(estimator=base_forest,\n",
    "                                    param_grid=forest_hyperparameter_grid_by_name,\n",
    "                                    scoring='roc_auc',\n",
    "                                    cv=3,\n",
    "                                    return_train_score=True,\n",
    "                                    refit=False) \n",
    "\n",
    "    forest_searcher.fit(features_train, ratings_train)\n",
    "    forest = RandomForestClassifier(**forest_searcher.best_params_)\n",
    "else:\n",
    "    forest = RandomForestClassifier(\n",
    "        # params found from previous run of gridsearch\n",
    "        max_depth=32,\n",
    "        max_features=3,\n",
    "        min_samples_leaf=1,\n",
    "        n_estimators=200\n",
    "    )\n",
    "\n",
    "forest.fit(features_train, ratings_train)\n",
    "\n",
    "# best_estimator = forest_searcher.best_estimator_ \n",
    "# best_Score = forest_searcher.best_score_\n",
    "\n"
   ]
  },
  {
   "cell_type": "code",
   "execution_count": 22,
   "metadata": {},
   "outputs": [
    {
     "name": "stdout",
     "output_type": "stream",
     "text": [
      "{'max_depth': 32, 'max_features': 3, 'min_samples_leaf': 1, 'n_estimators': 200, 'random_state': 101}\n"
     ]
    },
    {
     "data": {
      "image/png": "[encoded data removed]",
      "text/plain": [
       "<Figure size 640x480 with 1 Axes>"
      ]
     },
     "metadata": {},
     "output_type": "display_data"
    }
   ],
   "source": [
    "from sklearn.metrics import RocCurveDisplay\n",
    "\n",
    " \n",
    "roc_disp = RocCurveDisplay.from_estimator(forest, features_test, ratings_test)"
   ]
  },
  {
   "cell_type": "code",
   "execution_count": null,
   "metadata": {},
   "outputs": [],
   "source": []
  }
 ],
 "metadata": {
  "kernelspec": {
   "display_name": "cs135_env",
   "language": "python",
   "name": "python3"
  },
  "language_info": {
   "codemirror_mode": {
    "name": "ipython",
    "version": 3
   },
   "file_extension": ".py",
   "mimetype": "text/x-python",
   "name": "python",
   "nbconvert_exporter": "python",
   "pygments_lexer": "ipython3",
   "version": "3.10.13"
  }
 },
 "nbformat": 4,
 "nbformat_minor": 2
}
